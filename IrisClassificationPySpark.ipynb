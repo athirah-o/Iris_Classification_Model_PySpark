{
 "cells": [
  {
   "cell_type": "markdown",
   "id": "b0291230-6940-4b99-85b0-7218b2eda45e",
   "metadata": {},
   "source": [
    "### Initialize Spark within Jupyter Notebook"
   ]
  },
  {
   "cell_type": "code",
   "execution_count": 7,
   "id": "8661c362-11e1-434e-bec4-cab21fb04fb1",
   "metadata": {},
   "outputs": [
    {
     "data": {
      "text/plain": [
       "'C:\\\\spark\\\\spark-3.5.1-bin-hadoop3'"
      ]
     },
     "execution_count": 7,
     "metadata": {},
     "output_type": "execute_result"
    }
   ],
   "source": [
    "import findspark\n",
    "findspark.init()\n",
    "findspark.find()"
   ]
  },
  {
   "cell_type": "markdown",
   "id": "658d17d0-0a17-4f45-a49f-ab8aaf3b1912",
   "metadata": {},
   "source": [
    "### Loading libraries and packages"
   ]
  },
  {
   "cell_type": "code",
   "execution_count": 8,
   "id": "0d8a55b1",
   "metadata": {},
   "outputs": [],
   "source": [
    "from pyspark.sql import SparkSession\n",
    "from pyspark import SparkContext\n",
    "from pyspark.sql import SQLContext\n",
    "from pyspark.ml.classification import RandomForestClassifier, DecisionTreeClassifier, LogisticRegression\n",
    "from pyspark.ml.tuning import ParamGridBuilder, CrossValidator\n",
    "from pyspark.ml.evaluation import MulticlassClassificationEvaluator\n",
    "from pyspark.ml.feature import VectorAssembler\n",
    "from sklearn.metrics import confusion_matrix\n",
    "from sklearn.datasets import load_iris\n",
    "import pandas as pd"
   ]
  },
  {
   "cell_type": "markdown",
   "id": "b946adff-eb9c-43a2-905f-67d8083cc376",
   "metadata": {},
   "source": [
    "## Data Preparation"
   ]
  },
  {
   "cell_type": "markdown",
   "id": "e036bc76-59aa-45d3-97de-2b352f8ae803",
   "metadata": {},
   "source": [
    "### Load iris dataset from scikit-learn package"
   ]
  },
  {
   "cell_type": "code",
   "execution_count": 9,
   "id": "3af01423",
   "metadata": {},
   "outputs": [
    {
     "data": {
      "text/plain": [
       "{'data': array([[5.1, 3.5, 1.4, 0.2],\n",
       "        [4.9, 3. , 1.4, 0.2],\n",
       "        [4.7, 3.2, 1.3, 0.2],\n",
       "        [4.6, 3.1, 1.5, 0.2],\n",
       "        [5. , 3.6, 1.4, 0.2],\n",
       "        [5.4, 3.9, 1.7, 0.4],\n",
       "        [4.6, 3.4, 1.4, 0.3],\n",
       "        [5. , 3.4, 1.5, 0.2],\n",
       "        [4.4, 2.9, 1.4, 0.2],\n",
       "        [4.9, 3.1, 1.5, 0.1],\n",
       "        [5.4, 3.7, 1.5, 0.2],\n",
       "        [4.8, 3.4, 1.6, 0.2],\n",
       "        [4.8, 3. , 1.4, 0.1],\n",
       "        [4.3, 3. , 1.1, 0.1],\n",
       "        [5.8, 4. , 1.2, 0.2],\n",
       "        [5.7, 4.4, 1.5, 0.4],\n",
       "        [5.4, 3.9, 1.3, 0.4],\n",
       "        [5.1, 3.5, 1.4, 0.3],\n",
       "        [5.7, 3.8, 1.7, 0.3],\n",
       "        [5.1, 3.8, 1.5, 0.3],\n",
       "        [5.4, 3.4, 1.7, 0.2],\n",
       "        [5.1, 3.7, 1.5, 0.4],\n",
       "        [4.6, 3.6, 1. , 0.2],\n",
       "        [5.1, 3.3, 1.7, 0.5],\n",
       "        [4.8, 3.4, 1.9, 0.2],\n",
       "        [5. , 3. , 1.6, 0.2],\n",
       "        [5. , 3.4, 1.6, 0.4],\n",
       "        [5.2, 3.5, 1.5, 0.2],\n",
       "        [5.2, 3.4, 1.4, 0.2],\n",
       "        [4.7, 3.2, 1.6, 0.2],\n",
       "        [4.8, 3.1, 1.6, 0.2],\n",
       "        [5.4, 3.4, 1.5, 0.4],\n",
       "        [5.2, 4.1, 1.5, 0.1],\n",
       "        [5.5, 4.2, 1.4, 0.2],\n",
       "        [4.9, 3.1, 1.5, 0.2],\n",
       "        [5. , 3.2, 1.2, 0.2],\n",
       "        [5.5, 3.5, 1.3, 0.2],\n",
       "        [4.9, 3.6, 1.4, 0.1],\n",
       "        [4.4, 3. , 1.3, 0.2],\n",
       "        [5.1, 3.4, 1.5, 0.2],\n",
       "        [5. , 3.5, 1.3, 0.3],\n",
       "        [4.5, 2.3, 1.3, 0.3],\n",
       "        [4.4, 3.2, 1.3, 0.2],\n",
       "        [5. , 3.5, 1.6, 0.6],\n",
       "        [5.1, 3.8, 1.9, 0.4],\n",
       "        [4.8, 3. , 1.4, 0.3],\n",
       "        [5.1, 3.8, 1.6, 0.2],\n",
       "        [4.6, 3.2, 1.4, 0.2],\n",
       "        [5.3, 3.7, 1.5, 0.2],\n",
       "        [5. , 3.3, 1.4, 0.2],\n",
       "        [7. , 3.2, 4.7, 1.4],\n",
       "        [6.4, 3.2, 4.5, 1.5],\n",
       "        [6.9, 3.1, 4.9, 1.5],\n",
       "        [5.5, 2.3, 4. , 1.3],\n",
       "        [6.5, 2.8, 4.6, 1.5],\n",
       "        [5.7, 2.8, 4.5, 1.3],\n",
       "        [6.3, 3.3, 4.7, 1.6],\n",
       "        [4.9, 2.4, 3.3, 1. ],\n",
       "        [6.6, 2.9, 4.6, 1.3],\n",
       "        [5.2, 2.7, 3.9, 1.4],\n",
       "        [5. , 2. , 3.5, 1. ],\n",
       "        [5.9, 3. , 4.2, 1.5],\n",
       "        [6. , 2.2, 4. , 1. ],\n",
       "        [6.1, 2.9, 4.7, 1.4],\n",
       "        [5.6, 2.9, 3.6, 1.3],\n",
       "        [6.7, 3.1, 4.4, 1.4],\n",
       "        [5.6, 3. , 4.5, 1.5],\n",
       "        [5.8, 2.7, 4.1, 1. ],\n",
       "        [6.2, 2.2, 4.5, 1.5],\n",
       "        [5.6, 2.5, 3.9, 1.1],\n",
       "        [5.9, 3.2, 4.8, 1.8],\n",
       "        [6.1, 2.8, 4. , 1.3],\n",
       "        [6.3, 2.5, 4.9, 1.5],\n",
       "        [6.1, 2.8, 4.7, 1.2],\n",
       "        [6.4, 2.9, 4.3, 1.3],\n",
       "        [6.6, 3. , 4.4, 1.4],\n",
       "        [6.8, 2.8, 4.8, 1.4],\n",
       "        [6.7, 3. , 5. , 1.7],\n",
       "        [6. , 2.9, 4.5, 1.5],\n",
       "        [5.7, 2.6, 3.5, 1. ],\n",
       "        [5.5, 2.4, 3.8, 1.1],\n",
       "        [5.5, 2.4, 3.7, 1. ],\n",
       "        [5.8, 2.7, 3.9, 1.2],\n",
       "        [6. , 2.7, 5.1, 1.6],\n",
       "        [5.4, 3. , 4.5, 1.5],\n",
       "        [6. , 3.4, 4.5, 1.6],\n",
       "        [6.7, 3.1, 4.7, 1.5],\n",
       "        [6.3, 2.3, 4.4, 1.3],\n",
       "        [5.6, 3. , 4.1, 1.3],\n",
       "        [5.5, 2.5, 4. , 1.3],\n",
       "        [5.5, 2.6, 4.4, 1.2],\n",
       "        [6.1, 3. , 4.6, 1.4],\n",
       "        [5.8, 2.6, 4. , 1.2],\n",
       "        [5. , 2.3, 3.3, 1. ],\n",
       "        [5.6, 2.7, 4.2, 1.3],\n",
       "        [5.7, 3. , 4.2, 1.2],\n",
       "        [5.7, 2.9, 4.2, 1.3],\n",
       "        [6.2, 2.9, 4.3, 1.3],\n",
       "        [5.1, 2.5, 3. , 1.1],\n",
       "        [5.7, 2.8, 4.1, 1.3],\n",
       "        [6.3, 3.3, 6. , 2.5],\n",
       "        [5.8, 2.7, 5.1, 1.9],\n",
       "        [7.1, 3. , 5.9, 2.1],\n",
       "        [6.3, 2.9, 5.6, 1.8],\n",
       "        [6.5, 3. , 5.8, 2.2],\n",
       "        [7.6, 3. , 6.6, 2.1],\n",
       "        [4.9, 2.5, 4.5, 1.7],\n",
       "        [7.3, 2.9, 6.3, 1.8],\n",
       "        [6.7, 2.5, 5.8, 1.8],\n",
       "        [7.2, 3.6, 6.1, 2.5],\n",
       "        [6.5, 3.2, 5.1, 2. ],\n",
       "        [6.4, 2.7, 5.3, 1.9],\n",
       "        [6.8, 3. , 5.5, 2.1],\n",
       "        [5.7, 2.5, 5. , 2. ],\n",
       "        [5.8, 2.8, 5.1, 2.4],\n",
       "        [6.4, 3.2, 5.3, 2.3],\n",
       "        [6.5, 3. , 5.5, 1.8],\n",
       "        [7.7, 3.8, 6.7, 2.2],\n",
       "        [7.7, 2.6, 6.9, 2.3],\n",
       "        [6. , 2.2, 5. , 1.5],\n",
       "        [6.9, 3.2, 5.7, 2.3],\n",
       "        [5.6, 2.8, 4.9, 2. ],\n",
       "        [7.7, 2.8, 6.7, 2. ],\n",
       "        [6.3, 2.7, 4.9, 1.8],\n",
       "        [6.7, 3.3, 5.7, 2.1],\n",
       "        [7.2, 3.2, 6. , 1.8],\n",
       "        [6.2, 2.8, 4.8, 1.8],\n",
       "        [6.1, 3. , 4.9, 1.8],\n",
       "        [6.4, 2.8, 5.6, 2.1],\n",
       "        [7.2, 3. , 5.8, 1.6],\n",
       "        [7.4, 2.8, 6.1, 1.9],\n",
       "        [7.9, 3.8, 6.4, 2. ],\n",
       "        [6.4, 2.8, 5.6, 2.2],\n",
       "        [6.3, 2.8, 5.1, 1.5],\n",
       "        [6.1, 2.6, 5.6, 1.4],\n",
       "        [7.7, 3. , 6.1, 2.3],\n",
       "        [6.3, 3.4, 5.6, 2.4],\n",
       "        [6.4, 3.1, 5.5, 1.8],\n",
       "        [6. , 3. , 4.8, 1.8],\n",
       "        [6.9, 3.1, 5.4, 2.1],\n",
       "        [6.7, 3.1, 5.6, 2.4],\n",
       "        [6.9, 3.1, 5.1, 2.3],\n",
       "        [5.8, 2.7, 5.1, 1.9],\n",
       "        [6.8, 3.2, 5.9, 2.3],\n",
       "        [6.7, 3.3, 5.7, 2.5],\n",
       "        [6.7, 3. , 5.2, 2.3],\n",
       "        [6.3, 2.5, 5. , 1.9],\n",
       "        [6.5, 3. , 5.2, 2. ],\n",
       "        [6.2, 3.4, 5.4, 2.3],\n",
       "        [5.9, 3. , 5.1, 1.8]]),\n",
       " 'target': array([0, 0, 0, 0, 0, 0, 0, 0, 0, 0, 0, 0, 0, 0, 0, 0, 0, 0, 0, 0, 0, 0,\n",
       "        0, 0, 0, 0, 0, 0, 0, 0, 0, 0, 0, 0, 0, 0, 0, 0, 0, 0, 0, 0, 0, 0,\n",
       "        0, 0, 0, 0, 0, 0, 1, 1, 1, 1, 1, 1, 1, 1, 1, 1, 1, 1, 1, 1, 1, 1,\n",
       "        1, 1, 1, 1, 1, 1, 1, 1, 1, 1, 1, 1, 1, 1, 1, 1, 1, 1, 1, 1, 1, 1,\n",
       "        1, 1, 1, 1, 1, 1, 1, 1, 1, 1, 1, 1, 2, 2, 2, 2, 2, 2, 2, 2, 2, 2,\n",
       "        2, 2, 2, 2, 2, 2, 2, 2, 2, 2, 2, 2, 2, 2, 2, 2, 2, 2, 2, 2, 2, 2,\n",
       "        2, 2, 2, 2, 2, 2, 2, 2, 2, 2, 2, 2, 2, 2, 2, 2, 2, 2]),\n",
       " 'frame': None,\n",
       " 'target_names': array(['setosa', 'versicolor', 'virginica'], dtype='<U10'),\n",
       " 'DESCR': '.. _iris_dataset:\\n\\nIris plants dataset\\n--------------------\\n\\n**Data Set Characteristics:**\\n\\n:Number of Instances: 150 (50 in each of three classes)\\n:Number of Attributes: 4 numeric, predictive attributes and the class\\n:Attribute Information:\\n    - sepal length in cm\\n    - sepal width in cm\\n    - petal length in cm\\n    - petal width in cm\\n    - class:\\n            - Iris-Setosa\\n            - Iris-Versicolour\\n            - Iris-Virginica\\n\\n:Summary Statistics:\\n\\n============== ==== ==== ======= ===== ====================\\n                Min  Max   Mean    SD   Class Correlation\\n============== ==== ==== ======= ===== ====================\\nsepal length:   4.3  7.9   5.84   0.83    0.7826\\nsepal width:    2.0  4.4   3.05   0.43   -0.4194\\npetal length:   1.0  6.9   3.76   1.76    0.9490  (high!)\\npetal width:    0.1  2.5   1.20   0.76    0.9565  (high!)\\n============== ==== ==== ======= ===== ====================\\n\\n:Missing Attribute Values: None\\n:Class Distribution: 33.3% for each of 3 classes.\\n:Creator: R.A. Fisher\\n:Donor: Michael Marshall (MARSHALL%PLU@io.arc.nasa.gov)\\n:Date: July, 1988\\n\\nThe famous Iris database, first used by Sir R.A. Fisher. The dataset is taken\\nfrom Fisher\\'s paper. Note that it\\'s the same as in R, but not as in the UCI\\nMachine Learning Repository, which has two wrong data points.\\n\\nThis is perhaps the best known database to be found in the\\npattern recognition literature.  Fisher\\'s paper is a classic in the field and\\nis referenced frequently to this day.  (See Duda & Hart, for example.)  The\\ndata set contains 3 classes of 50 instances each, where each class refers to a\\ntype of iris plant.  One class is linearly separable from the other 2; the\\nlatter are NOT linearly separable from each other.\\n\\n|details-start|\\n**References**\\n|details-split|\\n\\n- Fisher, R.A. \"The use of multiple measurements in taxonomic problems\"\\n  Annual Eugenics, 7, Part II, 179-188 (1936); also in \"Contributions to\\n  Mathematical Statistics\" (John Wiley, NY, 1950).\\n- Duda, R.O., & Hart, P.E. (1973) Pattern Classification and Scene Analysis.\\n  (Q327.D83) John Wiley & Sons.  ISBN 0-471-22361-1.  See page 218.\\n- Dasarathy, B.V. (1980) \"Nosing Around the Neighborhood: A New System\\n  Structure and Classification Rule for Recognition in Partially Exposed\\n  Environments\".  IEEE Transactions on Pattern Analysis and Machine\\n  Intelligence, Vol. PAMI-2, No. 1, 67-71.\\n- Gates, G.W. (1972) \"The Reduced Nearest Neighbor Rule\".  IEEE Transactions\\n  on Information Theory, May 1972, 431-433.\\n- See also: 1988 MLC Proceedings, 54-64.  Cheeseman et al\"s AUTOCLASS II\\n  conceptual clustering system finds 3 classes in the data.\\n- Many, many more ...\\n\\n|details-end|\\n',\n",
       " 'feature_names': ['sepal length (cm)',\n",
       "  'sepal width (cm)',\n",
       "  'petal length (cm)',\n",
       "  'petal width (cm)'],\n",
       " 'filename': 'iris.csv',\n",
       " 'data_module': 'sklearn.datasets.data'}"
      ]
     },
     "execution_count": 9,
     "metadata": {},
     "output_type": "execute_result"
    }
   ],
   "source": [
    "iris = load_iris()\n",
    "iris"
   ]
  },
  {
   "cell_type": "code",
   "execution_count": 10,
   "id": "87ac24a5",
   "metadata": {},
   "outputs": [
    {
     "data": {
      "text/plain": [
       "sklearn.utils._bunch.Bunch"
      ]
     },
     "execution_count": 10,
     "metadata": {},
     "output_type": "execute_result"
    }
   ],
   "source": [
    "type(iris)"
   ]
  },
  {
   "cell_type": "markdown",
   "id": "4ba4c267-5b40-46a0-8f4e-8824dfd6606e",
   "metadata": {},
   "source": [
    "### Convert into pandas dataframe"
   ]
  },
  {
   "cell_type": "code",
   "execution_count": 11,
   "id": "571d994b",
   "metadata": {},
   "outputs": [
    {
     "data": {
      "text/html": [
       "<div>\n",
       "<style scoped>\n",
       "    .dataframe tbody tr th:only-of-type {\n",
       "        vertical-align: middle;\n",
       "    }\n",
       "\n",
       "    .dataframe tbody tr th {\n",
       "        vertical-align: top;\n",
       "    }\n",
       "\n",
       "    .dataframe thead th {\n",
       "        text-align: right;\n",
       "    }\n",
       "</style>\n",
       "<table border=\"1\" class=\"dataframe\">\n",
       "  <thead>\n",
       "    <tr style=\"text-align: right;\">\n",
       "      <th></th>\n",
       "      <th>sepal length (cm)</th>\n",
       "      <th>sepal width (cm)</th>\n",
       "      <th>petal length (cm)</th>\n",
       "      <th>petal width (cm)</th>\n",
       "      <th>label</th>\n",
       "    </tr>\n",
       "  </thead>\n",
       "  <tbody>\n",
       "    <tr>\n",
       "      <th>0</th>\n",
       "      <td>5.1</td>\n",
       "      <td>3.5</td>\n",
       "      <td>1.4</td>\n",
       "      <td>0.2</td>\n",
       "      <td>0</td>\n",
       "    </tr>\n",
       "    <tr>\n",
       "      <th>1</th>\n",
       "      <td>4.9</td>\n",
       "      <td>3.0</td>\n",
       "      <td>1.4</td>\n",
       "      <td>0.2</td>\n",
       "      <td>0</td>\n",
       "    </tr>\n",
       "    <tr>\n",
       "      <th>2</th>\n",
       "      <td>4.7</td>\n",
       "      <td>3.2</td>\n",
       "      <td>1.3</td>\n",
       "      <td>0.2</td>\n",
       "      <td>0</td>\n",
       "    </tr>\n",
       "    <tr>\n",
       "      <th>3</th>\n",
       "      <td>4.6</td>\n",
       "      <td>3.1</td>\n",
       "      <td>1.5</td>\n",
       "      <td>0.2</td>\n",
       "      <td>0</td>\n",
       "    </tr>\n",
       "    <tr>\n",
       "      <th>4</th>\n",
       "      <td>5.0</td>\n",
       "      <td>3.6</td>\n",
       "      <td>1.4</td>\n",
       "      <td>0.2</td>\n",
       "      <td>0</td>\n",
       "    </tr>\n",
       "  </tbody>\n",
       "</table>\n",
       "</div>"
      ],
      "text/plain": [
       "   sepal length (cm)  sepal width (cm)  petal length (cm)  petal width (cm)  \\\n",
       "0                5.1               3.5                1.4               0.2   \n",
       "1                4.9               3.0                1.4               0.2   \n",
       "2                4.7               3.2                1.3               0.2   \n",
       "3                4.6               3.1                1.5               0.2   \n",
       "4                5.0               3.6                1.4               0.2   \n",
       "\n",
       "   label  \n",
       "0      0  \n",
       "1      0  \n",
       "2      0  \n",
       "3      0  \n",
       "4      0  "
      ]
     },
     "execution_count": 11,
     "metadata": {},
     "output_type": "execute_result"
    }
   ],
   "source": [
    "# Convert iris data into dataframe\n",
    "df = pd.DataFrame(iris.data, columns=iris.feature_names)\n",
    "df['label'] = pd.Series(iris.target)\n",
    "df.head()"
   ]
  },
  {
   "cell_type": "code",
   "execution_count": 12,
   "id": "6d5d545f-8459-43d9-b235-623d83e07aec",
   "metadata": {},
   "outputs": [
    {
     "name": "stdout",
     "output_type": "stream",
     "text": [
      "<class 'pandas.core.frame.DataFrame'>\n",
      "RangeIndex: 150 entries, 0 to 149\n",
      "Data columns (total 5 columns):\n",
      " #   Column             Non-Null Count  Dtype  \n",
      "---  ------             --------------  -----  \n",
      " 0   sepal length (cm)  150 non-null    float64\n",
      " 1   sepal width (cm)   150 non-null    float64\n",
      " 2   petal length (cm)  150 non-null    float64\n",
      " 3   petal width (cm)   150 non-null    float64\n",
      " 4   label              150 non-null    int32  \n",
      "dtypes: float64(4), int32(1)\n",
      "memory usage: 5.4 KB\n"
     ]
    }
   ],
   "source": [
    "df.info()"
   ]
  },
  {
   "cell_type": "markdown",
   "id": "e4420ff9-2630-461f-93f6-c9ab4976418e",
   "metadata": {},
   "source": [
    "### Create Spark session"
   ]
  },
  {
   "cell_type": "code",
   "execution_count": 13,
   "id": "40306241",
   "metadata": {},
   "outputs": [],
   "source": [
    "# Create SparkSession \n",
    "spark = SparkSession.builder.appName(\"Classification_Iris_Dataset\").getOrCreate()"
   ]
  },
  {
   "cell_type": "markdown",
   "id": "413d5791-e13d-4606-9b74-1ab86f8f50e5",
   "metadata": {},
   "source": [
    "### Transform from pandas dataframe into spark dataframe"
   ]
  },
  {
   "cell_type": "code",
   "execution_count": 14,
   "id": "30047532",
   "metadata": {},
   "outputs": [
    {
     "name": "stdout",
     "output_type": "stream",
     "text": [
      "root\n",
      " |-- sepal length (cm): double (nullable = true)\n",
      " |-- sepal width (cm): double (nullable = true)\n",
      " |-- petal length (cm): double (nullable = true)\n",
      " |-- petal width (cm): double (nullable = true)\n",
      " |-- label: long (nullable = true)\n",
      "\n"
     ]
    }
   ],
   "source": [
    "df_iris = spark.createDataFrame(df)\n",
    "df_iris.printSchema()"
   ]
  },
  {
   "cell_type": "code",
   "execution_count": 15,
   "id": "f22ef5ee",
   "metadata": {
    "scrolled": true
   },
   "outputs": [
    {
     "name": "stdout",
     "output_type": "stream",
     "text": [
      "+-----------------+----------------+-----------------+----------------+-----+\n",
      "|sepal length (cm)|sepal width (cm)|petal length (cm)|petal width (cm)|label|\n",
      "+-----------------+----------------+-----------------+----------------+-----+\n",
      "|              5.1|             3.5|              1.4|             0.2|    0|\n",
      "|              4.9|             3.0|              1.4|             0.2|    0|\n",
      "|              4.7|             3.2|              1.3|             0.2|    0|\n",
      "|              4.6|             3.1|              1.5|             0.2|    0|\n",
      "|              5.0|             3.6|              1.4|             0.2|    0|\n",
      "+-----------------+----------------+-----------------+----------------+-----+\n",
      "only showing top 5 rows\n",
      "\n"
     ]
    }
   ],
   "source": [
    "df_iris.show(5)"
   ]
  },
  {
   "cell_type": "markdown",
   "id": "5e69675d-9dfb-41a5-b174-f7fa5c286e22",
   "metadata": {},
   "source": [
    "### Feature transformer with Vector Assembler\n",
    "\n",
    "-  VectorAssembler is a feature transformer in Apache Spark MLlib (Machine Learning library) that is used to assemble multiple columns of features into a single vector column.\n",
    "-  It's a fundamental tool in preprocessing data for machine learning tasks within Spark, particularly when dealing with datasets that have multiple feature columns.\n",
    "-  It is useful especially to train logistic regression and decision tree model.\n"
   ]
  },
  {
   "cell_type": "code",
   "execution_count": 16,
   "id": "2cbfe13a",
   "metadata": {},
   "outputs": [
    {
     "name": "stdout",
     "output_type": "stream",
     "text": [
      "+-----------------+-----+\n",
      "|         features|label|\n",
      "+-----------------+-----+\n",
      "|[5.1,3.5,1.4,0.2]|    0|\n",
      "|[4.9,3.0,1.4,0.2]|    0|\n",
      "|[4.7,3.2,1.3,0.2]|    0|\n",
      "|[4.6,3.1,1.5,0.2]|    0|\n",
      "|[5.0,3.6,1.4,0.2]|    0|\n",
      "+-----------------+-----+\n",
      "only showing top 5 rows\n",
      "\n",
      "None\n"
     ]
    }
   ],
   "source": [
    "features = iris.feature_names\n",
    "\n",
    "va = VectorAssembler(inputCols = features, outputCol='features')\n",
    "\n",
    "va_df = va.transform(df_iris)\n",
    "va_df = va_df.select(['features', 'label'])\n",
    "print(va_df.show(5))"
   ]
  },
  {
   "cell_type": "markdown",
   "id": "926b59a5-f78f-41a9-b30c-7c6fbffbac66",
   "metadata": {},
   "source": [
    "### Split the data into training and testing dataset"
   ]
  },
  {
   "cell_type": "code",
   "execution_count": 17,
   "id": "1730c487",
   "metadata": {},
   "outputs": [],
   "source": [
    "# Split data into training and testing data\n",
    "(train, test) = va_df.randomSplit([0.7, 0.3], seed=1)"
   ]
  },
  {
   "cell_type": "markdown",
   "id": "b43d7a30-37f8-4ffd-a5da-36d6835051f1",
   "metadata": {},
   "source": [
    "# Random Forest Classification Model"
   ]
  },
  {
   "cell_type": "code",
   "execution_count": 18,
   "id": "356be35a-d504-42e3-96de-8dcf407810e1",
   "metadata": {},
   "outputs": [],
   "source": [
    "# Define random forest classifier model using RandomForestClassifier()\n",
    "rfc = RandomForestClassifier(featuresCol=\"features\", labelCol=\"label\")\n",
    "\n",
    "# Hyperparameter tuning\n",
    "# Setting up a grid search with cross-validation to tune hyperparameters for a RandomForestClassifier in Apache Spark's MLlib\n",
    "paramGrid_rfc = ParamGridBuilder()\\\n",
    "    .addGrid(rfc.numTrees, [10, 20, 30]) \\\n",
    "    .addGrid(rfc.maxDepth, [5, 10, 15])\\\n",
    "    .addGrid(rfc.impurity, ['gini', 'entropy'])\\\n",
    "    .build()\n",
    "\n",
    "cv_rfc = CrossValidator(estimator=rfc,\n",
    "                    estimatorParamMaps=paramGrid_rfc,\n",
    "                    evaluator=MulticlassClassificationEvaluator(labelCol=\"label\"),\n",
    "                    numFolds=5)"
   ]
  },
  {
   "cell_type": "code",
   "execution_count": 19,
   "id": "031e4174",
   "metadata": {},
   "outputs": [
    {
     "name": "stdout",
     "output_type": "stream",
     "text": [
      "Best Parameters:\n",
      "bootstrap: True\n",
      "cacheNodeIds: False\n",
      "checkpointInterval: 10\n",
      "featureSubsetStrategy: auto\n",
      "featuresCol: features\n",
      "impurity: gini\n",
      "labelCol: label\n",
      "leafCol: \n",
      "maxBins: 32\n",
      "maxDepth: 5\n",
      "maxMemoryInMB: 256\n",
      "minInfoGain: 0.0\n",
      "minInstancesPerNode: 1\n",
      "minWeightFractionPerNode: 0.0\n",
      "numTrees: 10\n",
      "predictionCol: prediction\n",
      "probabilityCol: probability\n",
      "rawPredictionCol: rawPrediction\n",
      "seed: 562900841175604191\n",
      "subsamplingRate: 1.0\n"
     ]
    }
   ],
   "source": [
    "# Fit training dataset\n",
    "model_rfc = cv_rfc.fit(train)\n",
    "\n",
    "# Retrieves the best performing RandomForestClassifier model based on the evaluation metric specified (MulticlassClassificationEvaluator).\n",
    "bestModel_rfc = model_rfc.bestModel\n",
    "\n",
    "# Extract the best parameters resulted in the highest evaluation metric\n",
    "bestParams_rfc = bestModel_rfc.extractParamMap()\n",
    "print(\"Best Parameters:\")\n",
    "for param, value in bestParams_rfc.items():\n",
    "    print(f\"{param.name}: {value}\")"
   ]
  },
  {
   "cell_type": "code",
   "execution_count": 20,
   "id": "9e26a956-252f-4a25-8b09-b280c763aa3c",
   "metadata": {},
   "outputs": [
    {
     "name": "stdout",
     "output_type": "stream",
     "text": [
      "Prediction Table\n",
      "+-----------------+-----+--------------+-------------+----------+\n",
      "|         features|label| rawPrediction|  probability|prediction|\n",
      "+-----------------+-----+--------------+-------------+----------+\n",
      "|[4.9,3.0,1.4,0.2]|    0|[10.0,0.0,0.0]|[1.0,0.0,0.0]|       0.0|\n",
      "|[5.0,3.4,1.5,0.2]|    0|[10.0,0.0,0.0]|[1.0,0.0,0.0]|       0.0|\n",
      "|[5.1,3.5,1.4,0.3]|    0|[10.0,0.0,0.0]|[1.0,0.0,0.0]|       0.0|\n",
      "+-----------------+-----+--------------+-------------+----------+\n",
      "only showing top 3 rows\n",
      "\n",
      "Accuracy (Random Forest Model):  0.9351914951615102\n",
      "Precision (Random Forest Model):  0.9470108695652174\n",
      "Recall (Random Forest Model):  0.9347826086956522\n",
      "F1 (Random Forest Model):  0.9351914951615102\n",
      "\n",
      "Confusion Matrix (Random Forest Model):\n",
      "[[15  0  0]\n",
      " [ 0 15  3]\n",
      " [ 0  0 13]]\n"
     ]
    }
   ],
   "source": [
    "# Predict test data based on the best RFC model\n",
    "pred_rfc = bestModel_rfc.transform(test)\n",
    "print(\"Prediction Table\")\n",
    "pred_rfc.show(3)\n",
    "\n",
    "evaluator = MulticlassClassificationEvaluator(predictionCol=\"prediction\")\n",
    "\n",
    "# Evaluation Metrics\n",
    "acc_rfc = evaluator.evaluate(pred_rfc)\n",
    "precision_rfc = evaluator.evaluate(pred_rfc, {evaluator.metricName: \"weightedPrecision\"})\n",
    "recall_rfc = evaluator.evaluate(pred_rfc, {evaluator.metricName: \"weightedRecall\"})\n",
    "f1_rfc = evaluator.evaluate(pred_rfc, {evaluator.metricName: \"f1\"})\n",
    " \n",
    "print(\"Accuracy (Random Forest Model): \", acc_rfc)\n",
    "print(\"Precision (Random Forest Model): \", precision_rfc)\n",
    "print(\"Recall (Random Forest Model): \", recall_rfc)\n",
    "print(\"F1 (Random Forest Model): \", f1_rfc)\n",
    "\n",
    "# Confusion Matrix\n",
    "y_pred_rfc = pred_rfc.select(\"prediction\").collect()\n",
    "y_orig_rfc = pred_rfc.select(\"label\").collect()\n",
    "\n",
    "cm_rfc = confusion_matrix(y_orig_rfc, y_pred_rfc)\n",
    "print(\"\\nConfusion Matrix (Random Forest Model):\")\n",
    "print(cm_rfc)"
   ]
  },
  {
   "cell_type": "markdown",
   "id": "23a7c81c-5634-4d8a-892c-5ed2dfb84097",
   "metadata": {},
   "source": [
    "# Decision Tree Classification Model"
   ]
  },
  {
   "cell_type": "code",
   "execution_count": 21,
   "id": "317b3a27-d47b-4a82-98c3-82a189685855",
   "metadata": {},
   "outputs": [],
   "source": [
    "# Define decision tree classifier model using DecisionTreeClassifier()\n",
    "dtc = DecisionTreeClassifier(featuresCol=\"features\", labelCol=\"label\")\n",
    "\n",
    "# Hyperparameter tuning\n",
    "# Setting up a grid search with cross-validation to tune hyperparameters for a RandomForestClassifier in Apache Spark's MLlib\n",
    "paramGrid_dtc = ParamGridBuilder()\\\n",
    "    .addGrid(dtc.minInstancesPerNode, [1, 3, 5]) \\\n",
    "    .addGrid(dtc.maxDepth, [5, 10, 15])\\\n",
    "    .addGrid(dtc.impurity, ['gini', 'entropy'])\\\n",
    "    .build()\n",
    "\n",
    "cv_dtc = CrossValidator(estimator=dtc,\n",
    "                    estimatorParamMaps=paramGrid_dtc,\n",
    "                    evaluator=MulticlassClassificationEvaluator(labelCol=\"label\"),\n",
    "                    numFolds=5)"
   ]
  },
  {
   "cell_type": "code",
   "execution_count": 22,
   "id": "cb40d5be-3e94-4973-8262-86becac24e12",
   "metadata": {},
   "outputs": [
    {
     "name": "stdout",
     "output_type": "stream",
     "text": [
      "Best Parameters:\n",
      "cacheNodeIds: False\n",
      "checkpointInterval: 10\n",
      "featuresCol: features\n",
      "impurity: gini\n",
      "labelCol: label\n",
      "leafCol: \n",
      "maxBins: 32\n",
      "maxDepth: 5\n",
      "maxMemoryInMB: 256\n",
      "minInfoGain: 0.0\n",
      "minInstancesPerNode: 3\n",
      "minWeightFractionPerNode: 0.0\n",
      "predictionCol: prediction\n",
      "probabilityCol: probability\n",
      "rawPredictionCol: rawPrediction\n",
      "seed: 6874514065473941020\n"
     ]
    }
   ],
   "source": [
    "# Fit training dataset\n",
    "model_dtc = cv_dtc.fit(train)\n",
    "\n",
    "# Retrieves the best performing DecisionTreeClassifier model based on the evaluation metric specified (MulticlassClassificationEvaluator).\n",
    "bestModel_dtc = model_dtc.bestModel\n",
    "\n",
    "# Extract the best parameters resulted in the highest evaluation metric\n",
    "bestParams_dtc = bestModel_dtc.extractParamMap()\n",
    "print(\"Best Parameters:\")\n",
    "for param, value in bestParams_dtc.items():\n",
    "    print(f\"{param.name}: {value}\")"
   ]
  },
  {
   "cell_type": "code",
   "execution_count": 23,
   "id": "6effe1c9-e1c2-40c8-b517-ee8bcd44ac27",
   "metadata": {},
   "outputs": [
    {
     "name": "stdout",
     "output_type": "stream",
     "text": [
      "Prediction Table\n",
      "+-----------------+-----+--------------+-------------+----------+\n",
      "|         features|label| rawPrediction|  probability|prediction|\n",
      "+-----------------+-----+--------------+-------------+----------+\n",
      "|[4.9,3.0,1.4,0.2]|    0|[35.0,0.0,0.0]|[1.0,0.0,0.0]|       0.0|\n",
      "|[5.0,3.4,1.5,0.2]|    0|[35.0,0.0,0.0]|[1.0,0.0,0.0]|       0.0|\n",
      "|[5.1,3.5,1.4,0.3]|    0|[35.0,0.0,0.0]|[1.0,0.0,0.0]|       0.0|\n",
      "+-----------------+-----+--------------+-------------+----------+\n",
      "only showing top 3 rows\n",
      "\n",
      "Accuracy (Decision Tree Classifier Model):  0.9134057971014493\n",
      "Precision (Decision Tree Classifier Model):  0.9335038363171356\n",
      "Recall (Decision Tree Classifier Model):  0.9130434782608695\n",
      "F1 (Decision Tree Classifier Model):  0.9134057971014493\n",
      "\n",
      "Confusion Matrix (Decision Tree Model):\n",
      "[[15  0  0]\n",
      " [ 0 14  4]\n",
      " [ 0  0 13]]\n"
     ]
    }
   ],
   "source": [
    "# Predict test data based on the best DTC model\n",
    "pred_dtc = bestModel_dtc.transform(test)\n",
    "print(\"Prediction Table\")\n",
    "pred_dtc.show(3)\n",
    "\n",
    "evaluator=MulticlassClassificationEvaluator(predictionCol=\"prediction\")\n",
    "\n",
    "#Evaluation metrics\n",
    "acc_dtc = evaluator.evaluate(pred_dtc)\n",
    "precision_dtc = evaluator.evaluate(pred_dtc, {evaluator.metricName: \"weightedPrecision\"})\n",
    "recall_dtc = evaluator.evaluate(pred_dtc, {evaluator.metricName: \"weightedRecall\"})\n",
    "f1_dtc = evaluator.evaluate(pred_dtc, {evaluator.metricName: \"f1\"})\n",
    " \n",
    "print(\"Accuracy (Decision Tree Classifier Model): \", acc_dtc)\n",
    "print(\"Precision (Decision Tree Classifier Model): \", precision_dtc)\n",
    "print(\"Recall (Decision Tree Classifier Model): \", recall_dtc)\n",
    "print(\"F1 (Decision Tree Classifier Model): \", f1_dtc)\n",
    "\n",
    "y_pred_dtc = pred_dtc.select(\"prediction\").collect()\n",
    "y_orig_dtc = pred_dtc.select(\"label\").collect()\n",
    "\n",
    "# Confusion matrix\n",
    "cm_dtc = confusion_matrix(y_orig_dtc, y_pred_dtc)\n",
    "print(\"\\nConfusion Matrix (Decision Tree Model):\")\n",
    "print(cm_dtc)"
   ]
  },
  {
   "cell_type": "markdown",
   "id": "365a6463-7de6-4b44-8025-0b4fca60c0e4",
   "metadata": {},
   "source": [
    "# Logistic Regression Model"
   ]
  },
  {
   "cell_type": "code",
   "execution_count": 24,
   "id": "60514746-317c-4ae9-831d-cc10438c7d18",
   "metadata": {},
   "outputs": [],
   "source": [
    "# Define logistic regression model using LogisticRegression()\n",
    "logr = LogisticRegression(featuresCol=\"features\", labelCol=\"label\")\n",
    "\n",
    "# Hyperparameter tuning\n",
    "# Setting up a grid search with cross-validation to tune hyperparameters for a RandomForestClassifier in Apache Spark's MLlib\n",
    "paramGrid_logr = ParamGridBuilder()\\\n",
    "    .addGrid(logr.regParam, [0.01, 0.1, 1.0]) \\\n",
    "    .addGrid(logr.elasticNetParam, [0.0, 0.5, 1.0])\\\n",
    "    .build()\n",
    "\n",
    "cv_logr = CrossValidator(estimator=logr,\n",
    "                    estimatorParamMaps=paramGrid_logr,\n",
    "                    evaluator=MulticlassClassificationEvaluator(labelCol=\"label\"),\n",
    "                    numFolds=5)"
   ]
  },
  {
   "cell_type": "code",
   "execution_count": 25,
   "id": "d235c2cd-ca55-45be-8792-57c18de1840a",
   "metadata": {},
   "outputs": [
    {
     "name": "stdout",
     "output_type": "stream",
     "text": [
      "Best Parameters:\n",
      "aggregationDepth: 2\n",
      "elasticNetParam: 0.0\n",
      "family: auto\n",
      "featuresCol: features\n",
      "fitIntercept: True\n",
      "labelCol: label\n",
      "maxBlockSizeInMB: 0.0\n",
      "maxIter: 100\n",
      "predictionCol: prediction\n",
      "probabilityCol: probability\n",
      "rawPredictionCol: rawPrediction\n",
      "regParam: 0.01\n",
      "standardization: True\n",
      "threshold: 0.5\n",
      "tol: 1e-06\n"
     ]
    }
   ],
   "source": [
    "# Fit training dataset\n",
    "model_logr = cv_logr.fit(train)\n",
    "\n",
    "# Retrieves the best performing LogisticRegression model based on the evaluation metric specified (MulticlassClassificationEvaluator).\n",
    "bestModel_logr = model_logr.bestModel\n",
    "\n",
    "# Extract the best parameters resulted in the highest evaluation metric\n",
    "bestParams_logr = bestModel_logr.extractParamMap()\n",
    "print(\"Best Parameters:\")\n",
    "for param, value in bestParams_logr.items():\n",
    "    print(f\"{param.name}: {value}\")"
   ]
  },
  {
   "cell_type": "code",
   "execution_count": 26,
   "id": "aaaa8aaa-f77d-4148-89f0-8f86aeb7a312",
   "metadata": {},
   "outputs": [
    {
     "name": "stdout",
     "output_type": "stream",
     "text": [
      "Prediction Table\n",
      "+-----------------+-----+--------------------+--------------------+----------+\n",
      "|         features|label|       rawPrediction|         probability|prediction|\n",
      "+-----------------+-----+--------------------+--------------------+----------+\n",
      "|[4.9,3.0,1.4,0.2]|    0|[4.78851188280944...|[0.89712837540888...|       0.0|\n",
      "|[5.0,3.4,1.5,0.2]|    0|[5.70800181821203...|[0.97053978487086...|       0.0|\n",
      "|[5.1,3.5,1.4,0.3]|    0|[5.76905283413695...|[0.97581185673399...|       0.0|\n",
      "+-----------------+-----+--------------------+--------------------+----------+\n",
      "only showing top 3 rows\n",
      "\n",
      "Accuracy (Logistic Regression Model):  0.956795761782974\n",
      "Precision (Logistic Regression Model):  0.9623188405797102\n",
      "Recall (Logistic Regression Model):  0.9565217391304347\n",
      "F1 (Logistic Regression Model):  0.956795761782974\n",
      "\n",
      "Confusion Matrix (Logistic Regression Model):\n",
      "[[15  0  0]\n",
      " [ 0 16  2]\n",
      " [ 0  0 13]]\n"
     ]
    }
   ],
   "source": [
    "# Predict test data based on the best logr model\n",
    "pred_logr = bestModel_logr.transform(test)\n",
    "print(\"Prediction Table\")\n",
    "pred_logr.show(3)\n",
    "\n",
    "evaluator=MulticlassClassificationEvaluator(predictionCol=\"prediction\")\n",
    "\n",
    "# Evaluate accuracy\n",
    "acc_logr = evaluator.evaluate(pred_logr)\n",
    "precision_logr = evaluator.evaluate(pred_logr, {evaluator.metricName: \"weightedPrecision\"})\n",
    "recall_logr = evaluator.evaluate(pred_logr, {evaluator.metricName: \"weightedRecall\"})\n",
    "f1_logr = evaluator.evaluate(pred_logr, {evaluator.metricName: \"f1\"})\n",
    " \n",
    "print(\"Accuracy (Logistic Regression Model): \", acc_logr)\n",
    "print(\"Precision (Logistic Regression Model): \", precision_logr)\n",
    "print(\"Recall (Logistic Regression Model): \", recall_logr)\n",
    "print(\"F1 (Logistic Regression Model): \", f1_logr)\n",
    " \n",
    "y_pred_logr = pred_logr.select(\"prediction\").collect()\n",
    "y_orig_logr = pred_logr.select(\"label\").collect()\n",
    "\n",
    "#Confusion matrix\n",
    "cm_logr = confusion_matrix(y_orig_logr, y_pred_logr)\n",
    "print(\"\\nConfusion Matrix (Logistic Regression Model):\")\n",
    "print(cm_logr)"
   ]
  },
  {
   "cell_type": "markdown",
   "id": "e24b9dc8-8c73-4e26-afa1-26c12a29d376",
   "metadata": {},
   "source": [
    "# Results and Discussion\n",
    "\n",
    "### **Metric score of the three models**\n",
    "\n",
    "- **Accuracy**\n",
    "\n",
    "Accuracy represents the proportion of correctly classified instances out of all instances.\n",
    "\n",
    "    1.  Random Forest Model:  0.9134057971014493\n",
    "    2.  Decision Tree Classifier Model:  0.9134057971014493\n",
    "    3.  Logistic Regression Model:  0.956795761782974\n",
    "\n",
    "-  **Precision**\n",
    "\n",
    "Precision measures the proportion of true positive predictions (correctly predicted instances of a class) out of all positive predictions made by the model. A high precision score (close to 1.0) indicates that when the model predicts a class, it is usually correct. \n",
    "\n",
    "    1.  Random Forest Model:  0.9335038363171356\n",
    "    2.  Decision Tree Classifier Model:  0.9335038363171356\n",
    "    3.  Logistic Regression Model:  0.9623188405797102\n",
    "\n",
    "-  **Recall(Sensitivity)**\n",
    "\n",
    "Recall measures the proportion of true positive predictions out of all actual positive instances in the dataset. It indicates how well the model is able to identify instances of a particular class. A high recall score (close to 1.0) means that the model is able to correctly identify most of the positive instances.\n",
    "\n",
    "    1.  Random Forest Model:  0.9130434782608695\n",
    "    2.  Decision Tree Classifier Model:  0.9130434782608695\n",
    "    3.  Logistic Regression Model:  0.9565217391304347\n",
    "\n",
    "- **F1 Score**\n",
    "\n",
    "The F1 score is the harmonic mean of precision and recall. It provides a single metric that balances both precision and recall. A higher F1 score (closer to 1.0) indicates a better overall performance of the model.\n",
    "\n",
    "    1.  Random Forest Model:  0.9134057971014493\n",
    "    2.  Decision Tree Classifier Model:  0.9134057971014493\n",
    "    3.  Logistic Regression Model:  0.956795761782974\n",
    "\n",
    "###  **Overall Evaluation**\n",
    "\n",
    "**Logistic Regression Model**: Overall, the Logistic Regression model demonstrates the highest performance across all metrics (accuracy, precision, recall, and F1 score). It achieves better classification accuracy and higher precision/recall balances compared to the tree-based models.\n",
    "\n",
    "**Random Forest and Decision Tree Classifier Models**: Both tree-based models perform similarly across most metrics, indicating comparable performance in terms of classification accuracy and precision/recall balance. They are effective models but do not outperform the Logistic Regression model in this particular evaluation.\n",
    "Several posibilities that could lead these two models have the same evaluation metrics:-\n",
    "\n",
    "-  Data Complexity: If the dataset is relatively simple or has features that are well-separated and easy to classify, both models may perform similarly. In such cases, their decision boundaries might not differ significantly, resulting in comparable evaluation metrics.\n",
    "-  Complexity Control: A Decision Tree model can potentially overfit the training data if not pruned properly, while a Random Forest tends to reduce overfitting by averaging multiple trees. If the Decision Tree model is pruned appropriately to control overfitting, its performance might align more closely with that of the Random Forest.\n",
    "-  Impact of Dataset Size: In smaller datasets, the variability in performance between different models might be smaller, leading to closer evaluation metrics across different models, including Random Forest and Decision Tree."
   ]
  },
  {
   "cell_type": "markdown",
   "id": "ecc6f9e7-83e3-4ca0-9446-4d9341d421cb",
   "metadata": {},
   "source": [
    "### **Confusion Matrix**\n",
    "\n",
    "A confusion matrix is a table that is used to evaluate the performance of a classification model. It presents a summary of the predictions made by the model compared to the actual true values of the target variable (or labels) in a tabular form. Each row of the matrix represents the instances in an actual class, while each column represents the instances in a predicted class.\n",
    "\n",
    "**Logistic Regression Model**: \n",
    "\n",
    "-  The model correctly classified all 15 instances of the first class.\n",
    "-  The model correctly classified 16 out of 18 instances of the second class, but misclassified 2 instances as the third class.\n",
    "-  The model correctly classified all 13 instances of the third class.\n",
    "-  The overall accuracy of the model is slightly higher than the other two models, with 44 out of 46 instances correctly classified.\n",
    "\n",
    "**Random Forest and Decision Tree Classifier Models**:\n",
    "\n",
    "- The model correctly classified all 15 instances of the first class.\n",
    "- The model correctly classified 14 out of 18 instances of the second class, but misclassified 4 instances as the first class.\n",
    "- The model correctly classified all 13 instances of the third class.\n",
    "- The overall accuracy of the model is high, with 42 out of 46 instances correctly classified."
   ]
  },
  {
   "cell_type": "markdown",
   "id": "adf867b9-0ed6-4dd7-ac6b-372d7e2eb9ae",
   "metadata": {},
   "source": [
    "### Stop spark session"
   ]
  },
  {
   "cell_type": "code",
   "execution_count": 27,
   "id": "466386d8-bb6e-468e-97eb-9da397321334",
   "metadata": {},
   "outputs": [],
   "source": [
    "spark.stop()"
   ]
  },
  {
   "cell_type": "code",
   "execution_count": null,
   "id": "36b1260b-4ea3-48ee-9334-6435bf9d5520",
   "metadata": {},
   "outputs": [],
   "source": []
  }
 ],
 "metadata": {
  "kernelspec": {
   "display_name": "Python 3 (ipykernel)",
   "language": "python",
   "name": "python3"
  },
  "language_info": {
   "codemirror_mode": {
    "name": "ipython",
    "version": 3
   },
   "file_extension": ".py",
   "mimetype": "text/x-python",
   "name": "python",
   "nbconvert_exporter": "python",
   "pygments_lexer": "ipython3",
   "version": "3.11.9"
  }
 },
 "nbformat": 4,
 "nbformat_minor": 5
}
